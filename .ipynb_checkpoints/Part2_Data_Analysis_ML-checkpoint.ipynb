{
 "cells": [
  {
   "cell_type": "code",
   "execution_count": 37,
   "metadata": {},
   "outputs": [],
   "source": [
    "import pandas as pd\n",
    "import numpy as np\n",
    "import seaborn as sns\n",
    "import matplotlib as mpl\n",
    "import matplotlib.pyplot as plt\n",
    "from pandas.api.types import CategoricalDtype\n",
    "from sklearn.preprocessing import Imputer, MinMaxScaler\n",
    "from sklearn.model_selection import train_test_split, GridSearchCV, cross_val_score\n",
    "from sklearn.svm import SVC\n",
    "from sklearn.metrics import confusion_matrix, accuracy_score, classification_report, roc_curve, auc"
   ]
  },
  {
   "cell_type": "code",
   "execution_count": 38,
   "metadata": {},
   "outputs": [
    {
     "name": "stdout",
     "output_type": "stream",
     "text": [
      "   preg  plas  pres  skin  insu  mass   pedi  age  class age_level\n",
      "0     6   148    72    35     0  33.6  0.627   50      1       50s\n",
      "1     1    85    66    29     0  26.6  0.351   31      0       30s\n",
      "2     8   183    64     0     0  23.3  0.672   32      1       30s\n",
      "3     1    89    66    23    94  28.1  0.167   21      0       20s\n",
      "4     0   137    40    35   168  43.1  2.288   33      1       30s\n",
      "5     5   116    74     0     0  25.6  0.201   30      0       30s\n",
      "6     3    78    50    32    88  31.0  0.248   26      1       20s\n",
      "7    10   115     0     0     0  35.3  0.134   29      0       20s\n",
      "8     2   197    70    45   543  30.5  0.158   53      1       50s\n",
      "9     8   125    96     0     0   0.0  0.232   54      1       50s\n",
      "<class 'pandas.core.frame.DataFrame'>\n",
      "RangeIndex: 768 entries, 0 to 767\n",
      "Data columns (total 10 columns):\n",
      "preg         768 non-null int64\n",
      "plas         768 non-null int64\n",
      "pres         768 non-null int64\n",
      "skin         768 non-null int64\n",
      "insu         768 non-null int64\n",
      "mass         768 non-null float64\n",
      "pedi         768 non-null float64\n",
      "age          768 non-null int64\n",
      "class        768 non-null int64\n",
      "age_level    768 non-null object\n",
      "dtypes: float64(2), int64(7), object(1)\n",
      "memory usage: 60.1+ KB\n",
      "aggregate statistics:\n"
     ]
    },
    {
     "data": {
      "text/html": [
       "<div>\n",
       "<style scoped>\n",
       "    .dataframe tbody tr th:only-of-type {\n",
       "        vertical-align: middle;\n",
       "    }\n",
       "\n",
       "    .dataframe tbody tr th {\n",
       "        vertical-align: top;\n",
       "    }\n",
       "\n",
       "    .dataframe thead th {\n",
       "        text-align: right;\n",
       "    }\n",
       "</style>\n",
       "<table border=\"1\" class=\"dataframe\">\n",
       "  <thead>\n",
       "    <tr style=\"text-align: right;\">\n",
       "      <th></th>\n",
       "      <th>preg</th>\n",
       "      <th>plas</th>\n",
       "      <th>pres</th>\n",
       "      <th>skin</th>\n",
       "      <th>insu</th>\n",
       "      <th>mass</th>\n",
       "      <th>pedi</th>\n",
       "      <th>age</th>\n",
       "      <th>class</th>\n",
       "    </tr>\n",
       "  </thead>\n",
       "  <tbody>\n",
       "    <tr>\n",
       "      <td>count</td>\n",
       "      <td>768.000000</td>\n",
       "      <td>768.000000</td>\n",
       "      <td>768.000000</td>\n",
       "      <td>768.000000</td>\n",
       "      <td>768.000000</td>\n",
       "      <td>768.000000</td>\n",
       "      <td>768.000000</td>\n",
       "      <td>768.000000</td>\n",
       "      <td>768.000000</td>\n",
       "    </tr>\n",
       "    <tr>\n",
       "      <td>mean</td>\n",
       "      <td>3.845052</td>\n",
       "      <td>120.894531</td>\n",
       "      <td>69.105469</td>\n",
       "      <td>20.536458</td>\n",
       "      <td>79.799479</td>\n",
       "      <td>31.992578</td>\n",
       "      <td>0.471876</td>\n",
       "      <td>33.240885</td>\n",
       "      <td>0.348958</td>\n",
       "    </tr>\n",
       "    <tr>\n",
       "      <td>std</td>\n",
       "      <td>3.369578</td>\n",
       "      <td>31.972618</td>\n",
       "      <td>19.355807</td>\n",
       "      <td>15.952218</td>\n",
       "      <td>115.244002</td>\n",
       "      <td>7.884160</td>\n",
       "      <td>0.331329</td>\n",
       "      <td>11.760232</td>\n",
       "      <td>0.476951</td>\n",
       "    </tr>\n",
       "    <tr>\n",
       "      <td>min</td>\n",
       "      <td>0.000000</td>\n",
       "      <td>0.000000</td>\n",
       "      <td>0.000000</td>\n",
       "      <td>0.000000</td>\n",
       "      <td>0.000000</td>\n",
       "      <td>0.000000</td>\n",
       "      <td>0.078000</td>\n",
       "      <td>21.000000</td>\n",
       "      <td>0.000000</td>\n",
       "    </tr>\n",
       "    <tr>\n",
       "      <td>25%</td>\n",
       "      <td>1.000000</td>\n",
       "      <td>99.000000</td>\n",
       "      <td>62.000000</td>\n",
       "      <td>0.000000</td>\n",
       "      <td>0.000000</td>\n",
       "      <td>27.300000</td>\n",
       "      <td>0.243750</td>\n",
       "      <td>24.000000</td>\n",
       "      <td>0.000000</td>\n",
       "    </tr>\n",
       "    <tr>\n",
       "      <td>50%</td>\n",
       "      <td>3.000000</td>\n",
       "      <td>117.000000</td>\n",
       "      <td>72.000000</td>\n",
       "      <td>23.000000</td>\n",
       "      <td>30.500000</td>\n",
       "      <td>32.000000</td>\n",
       "      <td>0.372500</td>\n",
       "      <td>29.000000</td>\n",
       "      <td>0.000000</td>\n",
       "    </tr>\n",
       "    <tr>\n",
       "      <td>75%</td>\n",
       "      <td>6.000000</td>\n",
       "      <td>140.250000</td>\n",
       "      <td>80.000000</td>\n",
       "      <td>32.000000</td>\n",
       "      <td>127.250000</td>\n",
       "      <td>36.600000</td>\n",
       "      <td>0.626250</td>\n",
       "      <td>41.000000</td>\n",
       "      <td>1.000000</td>\n",
       "    </tr>\n",
       "    <tr>\n",
       "      <td>max</td>\n",
       "      <td>17.000000</td>\n",
       "      <td>199.000000</td>\n",
       "      <td>122.000000</td>\n",
       "      <td>99.000000</td>\n",
       "      <td>846.000000</td>\n",
       "      <td>67.100000</td>\n",
       "      <td>2.420000</td>\n",
       "      <td>81.000000</td>\n",
       "      <td>1.000000</td>\n",
       "    </tr>\n",
       "  </tbody>\n",
       "</table>\n",
       "</div>"
      ],
      "text/plain": [
       "             preg        plas        pres        skin        insu        mass  \\\n",
       "count  768.000000  768.000000  768.000000  768.000000  768.000000  768.000000   \n",
       "mean     3.845052  120.894531   69.105469   20.536458   79.799479   31.992578   \n",
       "std      3.369578   31.972618   19.355807   15.952218  115.244002    7.884160   \n",
       "min      0.000000    0.000000    0.000000    0.000000    0.000000    0.000000   \n",
       "25%      1.000000   99.000000   62.000000    0.000000    0.000000   27.300000   \n",
       "50%      3.000000  117.000000   72.000000   23.000000   30.500000   32.000000   \n",
       "75%      6.000000  140.250000   80.000000   32.000000  127.250000   36.600000   \n",
       "max     17.000000  199.000000  122.000000   99.000000  846.000000   67.100000   \n",
       "\n",
       "             pedi         age       class  \n",
       "count  768.000000  768.000000  768.000000  \n",
       "mean     0.471876   33.240885    0.348958  \n",
       "std      0.331329   11.760232    0.476951  \n",
       "min      0.078000   21.000000    0.000000  \n",
       "25%      0.243750   24.000000    0.000000  \n",
       "50%      0.372500   29.000000    0.000000  \n",
       "75%      0.626250   41.000000    1.000000  \n",
       "max      2.420000   81.000000    1.000000  "
      ]
     },
     "execution_count": 38,
     "metadata": {},
     "output_type": "execute_result"
    }
   ],
   "source": [
    "diab = pd.read_csv(\"diabetes_explore2.csv\") \n",
    "print (diab.head(10) )\n",
    "\n",
    "diab.info()\n",
    "print(\"aggregate statistics:\")\n",
    "diab.describe()"
   ]
  },
  {
   "cell_type": "code",
   "execution_count": 39,
   "metadata": {},
   "outputs": [
    {
     "name": "stdout",
     "output_type": "stream",
     "text": [
      "['50s' '30s' '20s' '40s' '60+']\n",
      "counts of age_level:\n",
      "20s    396\n",
      "30s    165\n",
      "40s    118\n",
      "50s     57\n",
      "60+     32\n",
      "Name: age_level, dtype: int64\n"
     ]
    }
   ],
   "source": [
    "print(diab.age_level.unique())\n",
    "print(\"counts of age_level:\")\n",
    "print(diab['age_level'].value_counts())"
   ]
  },
  {
   "cell_type": "code",
   "execution_count": 40,
   "metadata": {},
   "outputs": [
    {
     "name": "stdout",
     "output_type": "stream",
     "text": [
      "aggregate statistics after data cleaning:\n"
     ]
    },
    {
     "data": {
      "text/html": [
       "<div>\n",
       "<style scoped>\n",
       "    .dataframe tbody tr th:only-of-type {\n",
       "        vertical-align: middle;\n",
       "    }\n",
       "\n",
       "    .dataframe tbody tr th {\n",
       "        vertical-align: top;\n",
       "    }\n",
       "\n",
       "    .dataframe thead th {\n",
       "        text-align: right;\n",
       "    }\n",
       "</style>\n",
       "<table border=\"1\" class=\"dataframe\">\n",
       "  <thead>\n",
       "    <tr style=\"text-align: right;\">\n",
       "      <th></th>\n",
       "      <th>preg</th>\n",
       "      <th>plas</th>\n",
       "      <th>pres</th>\n",
       "      <th>skin</th>\n",
       "      <th>insu</th>\n",
       "      <th>mass</th>\n",
       "      <th>pedi</th>\n",
       "      <th>age</th>\n",
       "      <th>class</th>\n",
       "    </tr>\n",
       "  </thead>\n",
       "  <tbody>\n",
       "    <tr>\n",
       "      <td>count</td>\n",
       "      <td>768.000000</td>\n",
       "      <td>763.000000</td>\n",
       "      <td>733.000000</td>\n",
       "      <td>541.000000</td>\n",
       "      <td>394.000000</td>\n",
       "      <td>757.000000</td>\n",
       "      <td>768.000000</td>\n",
       "      <td>768.000000</td>\n",
       "      <td>768.000000</td>\n",
       "    </tr>\n",
       "    <tr>\n",
       "      <td>mean</td>\n",
       "      <td>3.845052</td>\n",
       "      <td>121.686763</td>\n",
       "      <td>72.405184</td>\n",
       "      <td>29.153420</td>\n",
       "      <td>155.548223</td>\n",
       "      <td>32.457464</td>\n",
       "      <td>0.471876</td>\n",
       "      <td>33.240885</td>\n",
       "      <td>0.348958</td>\n",
       "    </tr>\n",
       "    <tr>\n",
       "      <td>std</td>\n",
       "      <td>3.369578</td>\n",
       "      <td>30.535641</td>\n",
       "      <td>12.382158</td>\n",
       "      <td>10.476982</td>\n",
       "      <td>118.775855</td>\n",
       "      <td>6.924988</td>\n",
       "      <td>0.331329</td>\n",
       "      <td>11.760232</td>\n",
       "      <td>0.476951</td>\n",
       "    </tr>\n",
       "    <tr>\n",
       "      <td>min</td>\n",
       "      <td>0.000000</td>\n",
       "      <td>44.000000</td>\n",
       "      <td>24.000000</td>\n",
       "      <td>7.000000</td>\n",
       "      <td>14.000000</td>\n",
       "      <td>18.200000</td>\n",
       "      <td>0.078000</td>\n",
       "      <td>21.000000</td>\n",
       "      <td>0.000000</td>\n",
       "    </tr>\n",
       "    <tr>\n",
       "      <td>25%</td>\n",
       "      <td>1.000000</td>\n",
       "      <td>99.000000</td>\n",
       "      <td>64.000000</td>\n",
       "      <td>22.000000</td>\n",
       "      <td>76.250000</td>\n",
       "      <td>27.500000</td>\n",
       "      <td>0.243750</td>\n",
       "      <td>24.000000</td>\n",
       "      <td>0.000000</td>\n",
       "    </tr>\n",
       "    <tr>\n",
       "      <td>50%</td>\n",
       "      <td>3.000000</td>\n",
       "      <td>117.000000</td>\n",
       "      <td>72.000000</td>\n",
       "      <td>29.000000</td>\n",
       "      <td>125.000000</td>\n",
       "      <td>32.300000</td>\n",
       "      <td>0.372500</td>\n",
       "      <td>29.000000</td>\n",
       "      <td>0.000000</td>\n",
       "    </tr>\n",
       "    <tr>\n",
       "      <td>75%</td>\n",
       "      <td>6.000000</td>\n",
       "      <td>141.000000</td>\n",
       "      <td>80.000000</td>\n",
       "      <td>36.000000</td>\n",
       "      <td>190.000000</td>\n",
       "      <td>36.600000</td>\n",
       "      <td>0.626250</td>\n",
       "      <td>41.000000</td>\n",
       "      <td>1.000000</td>\n",
       "    </tr>\n",
       "    <tr>\n",
       "      <td>max</td>\n",
       "      <td>17.000000</td>\n",
       "      <td>199.000000</td>\n",
       "      <td>122.000000</td>\n",
       "      <td>99.000000</td>\n",
       "      <td>846.000000</td>\n",
       "      <td>67.100000</td>\n",
       "      <td>2.420000</td>\n",
       "      <td>81.000000</td>\n",
       "      <td>1.000000</td>\n",
       "    </tr>\n",
       "  </tbody>\n",
       "</table>\n",
       "</div>"
      ],
      "text/plain": [
       "             preg        plas        pres        skin        insu        mass  \\\n",
       "count  768.000000  763.000000  733.000000  541.000000  394.000000  757.000000   \n",
       "mean     3.845052  121.686763   72.405184   29.153420  155.548223   32.457464   \n",
       "std      3.369578   30.535641   12.382158   10.476982  118.775855    6.924988   \n",
       "min      0.000000   44.000000   24.000000    7.000000   14.000000   18.200000   \n",
       "25%      1.000000   99.000000   64.000000   22.000000   76.250000   27.500000   \n",
       "50%      3.000000  117.000000   72.000000   29.000000  125.000000   32.300000   \n",
       "75%      6.000000  141.000000   80.000000   36.000000  190.000000   36.600000   \n",
       "max     17.000000  199.000000  122.000000   99.000000  846.000000   67.100000   \n",
       "\n",
       "             pedi         age       class  \n",
       "count  768.000000  768.000000  768.000000  \n",
       "mean     0.471876   33.240885    0.348958  \n",
       "std      0.331329   11.760232    0.476951  \n",
       "min      0.078000   21.000000    0.000000  \n",
       "25%      0.243750   24.000000    0.000000  \n",
       "50%      0.372500   29.000000    0.000000  \n",
       "75%      0.626250   41.000000    1.000000  \n",
       "max      2.420000   81.000000    1.000000  "
      ]
     },
     "execution_count": 40,
     "metadata": {},
     "output_type": "execute_result"
    }
   ],
   "source": [
    "# data cleaning\n",
    "# not cleaning preg= 17: assumption that mother can be pregnant \n",
    "# (pregnancies & miscarriages) 17 times is not impossible \n",
    "# plasma=0, pres=0, skin=0, insu=0, mass=0\n",
    "diab1 = diab.copy(deep=True)\n",
    "diab1['plas'] = diab1['plas'].replace(0,np.NaN)\n",
    "diab1['pres'] = diab1['pres'].replace(0,np.NaN)\n",
    "diab1['skin'] = diab1['skin'].replace(0,np.NaN)\n",
    "diab1['insu'] = diab1['insu'].replace(0,np.NaN)\n",
    "diab1['mass'] = diab1['mass'].replace(0,np.NaN)\n",
    "print(\"aggregate statistics after data cleaning:\")\n",
    "diab1.describe()"
   ]
  },
  {
   "cell_type": "code",
   "execution_count": 41,
   "metadata": {},
   "outputs": [
    {
     "name": "stdout",
     "output_type": "stream",
     "text": [
      "X      preg   plas  pres  skin   insu  mass   pedi  age\n",
      "0       6  148.0  72.0  35.0    NaN  33.6  0.627   50\n",
      "1       1   85.0  66.0  29.0    NaN  26.6  0.351   31\n",
      "2       8  183.0  64.0   NaN    NaN  23.3  0.672   32\n",
      "3       1   89.0  66.0  23.0   94.0  28.1  0.167   21\n",
      "4       0  137.0  40.0  35.0  168.0  43.1  2.288   33\n",
      "..    ...    ...   ...   ...    ...   ...    ...  ...\n",
      "763    10  101.0  76.0  48.0  180.0  32.9  0.171   63\n",
      "764     2  122.0  70.0  27.0    NaN  36.8  0.340   27\n",
      "765     5  121.0  72.0  23.0  112.0  26.2  0.245   30\n",
      "766     1  126.0  60.0   NaN    NaN  30.1  0.349   47\n",
      "767     1   93.0  70.0  31.0    NaN  30.4  0.315   23\n",
      "\n",
      "[768 rows x 8 columns]\n",
      "0      1\n",
      "1      0\n",
      "2      1\n",
      "3      0\n",
      "4      1\n",
      "      ..\n",
      "763    0\n",
      "764    0\n",
      "765    0\n",
      "766    1\n",
      "767    0\n",
      "Name: class, Length: 768, dtype: int64\n",
      "[1 0]\n"
     ]
    },
    {
     "data": {
      "text/plain": [
       "array(['preg', 'plas', 'pres', 'skin', 'insu', 'mass', 'pedi', 'age'],\n",
       "      dtype=object)"
      ]
     },
     "execution_count": 41,
     "metadata": {},
     "output_type": "execute_result"
    }
   ],
   "source": [
    "#  dropping age_level, since it's a derived column from variable age, with high correlation\n",
    "# splitting test & train data set\n",
    "X = diab1.drop(labels=['class', 'age_level'], axis=1)\n",
    "print (\"X\", X)\n",
    "\n",
    "y = diab1.loc[:,'class'] # alt: use iloc for index based data selection\n",
    "print (y)\n",
    "\n",
    "print (y.unique())\n",
    "X_col_names = X.columns.values\n",
    "X_col_names"
   ]
  },
  {
   "cell_type": "code",
   "execution_count": 42,
   "metadata": {},
   "outputs": [
    {
     "name": "stdout",
     "output_type": "stream",
     "text": [
      "     preg   plas  pres  skin   insu  mass   pedi  age\n",
      "216     5  109.0  62.0  41.0  129.0  35.8  0.514   25\n",
      "556     1   97.0  70.0  40.0    NaN  38.1  0.218   30\n",
      "540     8  100.0  74.0  40.0  215.0  39.4  0.661   43\n",
      "697     0   99.0   NaN   NaN    NaN  25.0  0.253   22\n",
      "340     1  130.0  70.0  13.0  105.0  25.9  0.472   22\n",
      "..    ...    ...   ...   ...    ...   ...    ...  ...\n",
      "721     1  114.0  66.0  36.0  200.0  38.1  0.289   21\n",
      "326     1  122.0  64.0  32.0  156.0  35.1  0.692   30\n",
      "712    10  129.0  62.0  36.0    NaN  41.2  0.441   38\n",
      "137     0   93.0  60.0  25.0   92.0  28.7  0.532   22\n",
      "645     2  157.0  74.0  35.0  440.0  39.4  0.134   30\n",
      "\n",
      "[537 rows x 8 columns]\n",
      "537 537\n",
      "231 231\n"
     ]
    }
   ],
   "source": [
    "# pre-processing\n",
    "X_train, X_test, y_train, y_test = train_test_split(X, y, test_size=0.3, random_state=1,stratify=y)\n",
    "print(X_train)\n",
    "print(len(X_train),len(y_train))\n",
    "print(len(X_test),len(y_test))"
   ]
  },
  {
   "cell_type": "code",
   "execution_count": 43,
   "metadata": {},
   "outputs": [
    {
     "name": "stderr",
     "output_type": "stream",
     "text": [
      "/opt/anaconda3/lib/python3.7/site-packages/sklearn/utils/deprecation.py:66: DeprecationWarning: Class Imputer is deprecated; Imputer was deprecated in version 0.20 and will be removed in 0.22. Import impute.SimpleImputer from sklearn instead.\n",
      "  warnings.warn(msg, category=DeprecationWarning)\n"
     ]
    }
   ],
   "source": [
    "# imputing Nan's with medians in X_train and X_tests\n",
    "imp_x = Imputer(missing_values='NaN', strategy='median', axis=0) \n",
    "X_train = imp_x.fit_transform(X_train)\n",
    "X_test = imp_x.transform(X_test)"
   ]
  },
  {
   "cell_type": "code",
   "execution_count": 44,
   "metadata": {},
   "outputs": [
    {
     "name": "stdout",
     "output_type": "stream",
     "text": [
      "svc: SVC(C=1.0, cache_size=1000, class_weight=None, coef0=0.0,\n",
      "    decision_function_shape='ovr', degree=3, gamma='auto_deprecated',\n",
      "    kernel='rbf', max_iter=-1, probability=True, random_state=None,\n",
      "    shrinking=True, tol=0.001, verbose=False)\n",
      "Prediction accuracy:  0.6493506493506493\n"
     ]
    },
    {
     "name": "stderr",
     "output_type": "stream",
     "text": [
      "/opt/anaconda3/lib/python3.7/site-packages/sklearn/svm/base.py:193: FutureWarning: The default value of gamma will change from 'auto' to 'scale' in version 0.22 to account better for unscaled features. Set gamma explicitly to 'auto' or 'scale' to avoid this warning.\n",
      "  \"avoid this warning.\", FutureWarning)\n"
     ]
    }
   ],
   "source": [
    "# using kernel = rbf\n",
    "svc = SVC(kernel='rbf', cache_size=1000, probability=True) \n",
    "print (\"svc:\", svc)\n",
    "\n",
    "clf = svc.fit(X_train,y_train) # trains the classifier on the training set\n",
    "y_pred = svc.predict(X_test) # tests the classifier on the test set\n",
    "pTot = accuracy_score(y_test, y_pred)\n",
    "print (\"Prediction accuracy: \", pTot)"
   ]
  },
  {
   "cell_type": "code",
   "execution_count": 45,
   "metadata": {},
   "outputs": [
    {
     "name": "stdout",
     "output_type": "stream",
     "text": [
      "[[150   0]\n",
      " [ 81   0]]\n",
      "              precision    recall  f1-score   support\n",
      "\n",
      "           0       0.65      1.00      0.79       150\n",
      "           1       0.00      0.00      0.00        81\n",
      "\n",
      "    accuracy                           0.65       231\n",
      "   macro avg       0.32      0.50      0.39       231\n",
      "weighted avg       0.42      0.65      0.51       231\n",
      "\n"
     ]
    },
    {
     "name": "stderr",
     "output_type": "stream",
     "text": [
      "/opt/anaconda3/lib/python3.7/site-packages/sklearn/metrics/classification.py:1437: UndefinedMetricWarning: Precision and F-score are ill-defined and being set to 0.0 in labels with no predicted samples.\n",
      "  'precision', 'predicted', average, warn_for)\n"
     ]
    }
   ],
   "source": [
    "cm = confusion_matrix(y_test, y_pred)\n",
    "print(cm)\n",
    "report = classification_report(y_test, y_pred)\n",
    "print (report) #for each class prints: precision  recall  f1-score   support"
   ]
  },
  {
   "cell_type": "code",
   "execution_count": 46,
   "metadata": {},
   "outputs": [
    {
     "name": "stdout",
     "output_type": "stream",
     "text": [
      "[[  0.    131.     66.    ...  34.3     0.196  22.   ]\n",
      " [  0.    165.     90.    ...  52.3     0.427  23.   ]\n",
      " [  7.    102.     74.    ...  37.2     0.204  45.   ]\n",
      " ...\n",
      " [  1.    172.     68.    ...  42.4     0.702  28.   ]\n",
      " [  5.    158.     84.    ...  39.4     0.395  29.   ]\n",
      " [  4.    151.     90.    ...  29.7     0.294  36.   ]]\n"
     ]
    },
    {
     "data": {
      "text/plain": [
       "array([[0.        , 0.56493506, 0.45      , ..., 0.3907767 , 0.04794521,\n",
       "        0.01666667],\n",
       "       [0.        , 0.78571429, 0.75      , ..., 0.8276699 , 0.14683219,\n",
       "        0.03333333],\n",
       "       [0.41176471, 0.37662338, 0.55      , ..., 0.46116505, 0.05136986,\n",
       "        0.4       ],\n",
       "       ...,\n",
       "       [0.05882353, 0.83116883, 0.475     , ..., 0.58737864, 0.26455479,\n",
       "        0.11666667],\n",
       "       [0.29411765, 0.74025974, 0.675     , ..., 0.51456311, 0.13313356,\n",
       "        0.13333333],\n",
       "       [0.23529412, 0.69480519, 0.75      , ..., 0.27912621, 0.08989726,\n",
       "        0.25      ]])"
      ]
     },
     "execution_count": 46,
     "metadata": {},
     "output_type": "execute_result"
    }
   ],
   "source": [
    "# minmax scaling\n",
    "print (X_test) #compare before/after scaling\n",
    "min_max_scaler = MinMaxScaler()\n",
    "X_train_minmax = min_max_scaler.fit_transform(X_train)# fit AND transform training set\n",
    "X_test_minmax = min_max_scaler.transform(X_test)# test set transform only, no fit\n",
    "X_test_minmax"
   ]
  },
  {
   "cell_type": "code",
   "execution_count": 47,
   "metadata": {},
   "outputs": [
    {
     "name": "stdout",
     "output_type": "stream",
     "text": [
      "SVC(C=1.0, cache_size=1000, class_weight=None, coef0=0.0,\n",
      "    decision_function_shape='ovr', degree=3, gamma='auto_deprecated',\n",
      "    kernel='rbf', max_iter=-1, probability=True, random_state=None,\n",
      "    shrinking=True, tol=0.001, verbose=False)\n",
      "Prediction accuracy:  0.7575757575757576\n"
     ]
    },
    {
     "name": "stderr",
     "output_type": "stream",
     "text": [
      "/opt/anaconda3/lib/python3.7/site-packages/sklearn/svm/base.py:193: FutureWarning: The default value of gamma will change from 'auto' to 'scale' in version 0.22 to account better for unscaled features. Set gamma explicitly to 'auto' or 'scale' to avoid this warning.\n",
      "  \"avoid this warning.\", FutureWarning)\n"
     ]
    }
   ],
   "source": [
    "svc = SVC(kernel='rbf', cache_size=1000, probability=True) \n",
    "print (svc)\n",
    "clf = svc.fit(X_train_minmax, y_train) # trains the classifier on the training set\n",
    "y_pred_minmax = svc.predict(X_test_minmax) # tests the classifier on the test set\n",
    "pTot = accuracy_score(y_test, y_pred_minmax)\n",
    "print (\"Prediction accuracy: \",pTot)"
   ]
  },
  {
   "cell_type": "code",
   "execution_count": 48,
   "metadata": {},
   "outputs": [
    {
     "name": "stdout",
     "output_type": "stream",
     "text": [
      "[[136  14]\n",
      " [ 42  39]]\n",
      "              precision    recall  f1-score   support\n",
      "\n",
      "           0       0.76      0.91      0.83       150\n",
      "           1       0.74      0.48      0.58        81\n",
      "\n",
      "    accuracy                           0.76       231\n",
      "   macro avg       0.75      0.69      0.71       231\n",
      "weighted avg       0.75      0.76      0.74       231\n",
      "\n"
     ]
    }
   ],
   "source": [
    "cm = confusion_matrix(y_test, y_pred_minmax)\n",
    "print (cm)\n",
    "report = classification_report(y_test, y_pred_minmax)\n",
    "print (report)"
   ]
  },
  {
   "cell_type": "code",
   "execution_count": 49,
   "metadata": {},
   "outputs": [
    {
     "name": "stdout",
     "output_type": "stream",
     "text": [
      "[0.01, 0.1, 1, 'auto', 10, 100]\n"
     ]
    },
    {
     "data": {
      "text/plain": [
       "{'gamma': [0.01, 0.1, 1, 'auto', 10, 100],\n",
       " 'C': array([1.e-02, 1.e-01, 1.e+00, 1.e+01, 1.e+02, 1.e+03])}"
      ]
     },
     "execution_count": 49,
     "metadata": {},
     "output_type": "execute_result"
    }
   ],
   "source": [
    "# Parameter tuning: choosing gamma & C\n",
    "C_range = 10.0 ** np.arange(-2, 4)\n",
    "gamma_range = [.01, .1, 1, 'auto', 10, 100]\n",
    "print (gamma_range)\n",
    "param_grid = dict(gamma=gamma_range, C=C_range)\n",
    "param_grid"
   ]
  },
  {
   "cell_type": "code",
   "execution_count": 50,
   "metadata": {},
   "outputs": [
    {
     "name": "stderr",
     "output_type": "stream",
     "text": [
      "/opt/anaconda3/lib/python3.7/site-packages/sklearn/model_selection/_split.py:1978: FutureWarning: The default value of cv will change from 3 to 5 in version 0.22. Specify it explicitly to silence this warning.\n",
      "  warnings.warn(CV_WARNING, FutureWarning)\n"
     ]
    },
    {
     "name": "stdout",
     "output_type": "stream",
     "text": [
      "The best C and gamma for rbf is: 100.00000, 0.10000 \n"
     ]
    },
    {
     "data": {
      "text/plain": [
       "SVC(C=100.0, cache_size=1000, class_weight=None, coef0=0.0,\n",
       "    decision_function_shape='ovr', degree=3, gamma=0.1, kernel='rbf',\n",
       "    max_iter=-1, probability=True, random_state=None, shrinking=True, tol=0.001,\n",
       "    verbose=False)"
      ]
     },
     "execution_count": 50,
     "metadata": {},
     "output_type": "execute_result"
    }
   ],
   "source": [
    "# Default is 3-fold cross validation\n",
    "grid = GridSearchCV(SVC(kernel='rbf',cache_size=1000, probability=True), param_grid=param_grid)  \n",
    "grid.fit(X_train_minmax, y_train)\n",
    "best_C = grid.best_estimator_.C\n",
    "best_gamma = grid.best_estimator_.gamma\n",
    "print (\"The best C and gamma for rbf is: %.5f, %.5f \" % (best_C, best_gamma))\n",
    "grid.best_estimator_"
   ]
  },
  {
   "cell_type": "code",
   "execution_count": 51,
   "metadata": {},
   "outputs": [
    {
     "name": "stdout",
     "output_type": "stream",
     "text": [
      "Prediction accuracy:  0.7575757575757576\n",
      "[[135  15]\n",
      " [ 41  40]]\n",
      "              precision    recall  f1-score   support\n",
      "\n",
      "           0       0.77      0.90      0.83       150\n",
      "           1       0.73      0.49      0.59        81\n",
      "\n",
      "    accuracy                           0.76       231\n",
      "   macro avg       0.75      0.70      0.71       231\n",
      "weighted avg       0.75      0.76      0.74       231\n",
      "\n"
     ]
    }
   ],
   "source": [
    "best_predict_minmax = grid.best_estimator_.predict(X_test_minmax)\n",
    "pTot = accuracy_score(y_test, best_predict_minmax)\n",
    "print(\"Prediction accuracy: \",pTot)\n",
    "cm = confusion_matrix(y_test, best_predict_minmax)\n",
    "print(cm)\n",
    "report = classification_report(y_test, best_predict_minmax)\n",
    "print(report)"
   ]
  },
  {
   "cell_type": "code",
   "execution_count": null,
   "metadata": {},
   "outputs": [],
   "source": [
    "# this is the best fit model for kernel = rbf using minmax scaled data\n",
    "# using best value for parameters C = 100.00000, gamma = 0.10000 using the GridSearchCV\n",
    "# this model has prediction accuracy = 0.757575 (75.75%)\n",
    "# it's confusion matrix [[135  15] [ 41  40]]. (TP = 135, TN = 40, FP=41 and FN=15)\n",
    "# the ROC curve is displayed below with its ROC area=0.81"
   ]
  },
  {
   "cell_type": "code",
   "execution_count": 53,
   "metadata": {},
   "outputs": [
    {
     "name": "stdout",
     "output_type": "stream",
     "text": [
      "thresholds [1.98044043 0.98044043 0.95568325 0.94116902 0.90629417 0.90576592\n",
      " 0.8767394  0.87479959 0.83037111 0.81713376 0.79464078 0.77785473\n",
      " 0.73435349 0.7325467  0.71329089 0.71093351 0.68034909 0.66987222\n",
      " 0.64380216 0.63375546 0.62748502 0.61603378 0.58965838 0.56449297\n",
      " 0.55064479 0.52097865 0.51542516 0.51519669 0.51432871 0.48352345\n",
      " 0.47455192 0.46556326 0.44033154 0.43369164 0.43295729 0.43027461\n",
      " 0.42492623 0.42159002 0.41998408 0.39694958 0.37921188 0.37740922\n",
      " 0.37720499 0.35594585 0.35491015 0.33843369 0.31764409 0.31752804\n",
      " 0.31560072 0.30723428 0.3061119  0.29664579 0.29518199 0.28315441\n",
      " 0.27185508 0.26969045 0.26642229 0.22942687 0.22793795 0.225638\n",
      " 0.22210181 0.21607868 0.21544107 0.21145146 0.20752778 0.2058705\n",
      " 0.19434499 0.19383472 0.19344289 0.19187431 0.19057341 0.15744875\n",
      " 0.1566282  0.15524901 0.15518151 0.15327233 0.14872156 0.14591824\n",
      " 0.1446394  0.13412329 0.13394481 0.09601976 0.09579041 0.04510231\n",
      " 0.04360843 0.01885024]\n",
      "probas_ [[0.79247222 0.20752778]\n",
      " [0.09423408 0.90576592]\n",
      " [0.69919228 0.30080772]\n",
      " [0.96341528 0.03658472]\n",
      " [0.68247196 0.31752804]\n",
      " [0.77789819 0.22210181]\n",
      " [0.05883098 0.94116902]\n",
      " [0.53443674 0.46556326]\n",
      " [0.56704271 0.43295729]\n",
      " [0.90071149 0.09928851]\n",
      " [0.84481849 0.15518151]\n",
      " [0.25249578 0.74750422]\n",
      " [0.94729589 0.05270411]\n",
      " [0.41034162 0.58965838]\n",
      " [0.97088096 0.02911904]\n",
      " [0.94304618 0.05695382]\n",
      " [0.84255125 0.15744875]\n",
      " [0.78705731 0.21294269]\n",
      " [0.62078812 0.37921188]\n",
      " [0.93323157 0.06676843]\n",
      " [0.48567129 0.51432871]\n",
      " [0.74950635 0.25049365]\n",
      " [0.68439928 0.31560072]\n",
      " [0.10511784 0.89488216]\n",
      " [0.1214998  0.8785002 ]\n",
      " [0.19829818 0.80170182]\n",
      " [0.5715175  0.4284825 ]\n",
      " [0.75364515 0.24635485]\n",
      " [0.31965091 0.68034909]\n",
      " [0.60112099 0.39887901]\n",
      " [0.37501634 0.62498366]\n",
      " [0.38396622 0.61603378]\n",
      " [0.35307616 0.64692384]\n",
      " [0.90533017 0.09466983]\n",
      " [0.96208262 0.03791738]\n",
      " [0.93894923 0.06105077]\n",
      " [0.26564651 0.73435349]\n",
      " [0.9542261  0.0457739 ]\n",
      " [0.56630836 0.43369164]\n",
      " [0.76669053 0.23330947]\n",
      " [0.89363834 0.10636166]\n",
      " [0.8255296  0.1744704 ]\n",
      " [0.48457484 0.51542516]\n",
      " [0.2674533  0.7325467 ]\n",
      " [0.77057313 0.22942687]\n",
      " [0.8122437  0.1877563 ]\n",
      " [0.22471266 0.77528734]\n",
      " [0.52073022 0.47926978]\n",
      " [0.18286624 0.81713376]\n",
      " [0.77206205 0.22793795]\n",
      " [0.07735805 0.92264195]\n",
      " [0.8078628  0.1921372 ]\n",
      " [0.37251498 0.62748502]\n",
      " [0.80812569 0.19187431]\n",
      " [0.83425441 0.16574559]\n",
      " [0.24676332 0.75323668]\n",
      " [0.85127844 0.14872156]\n",
      " [0.90398024 0.09601976]\n",
      " [0.80804452 0.19195548]\n",
      " [0.73995217 0.26004783]\n",
      " [0.09370583 0.90629417]\n",
      " [0.28330225 0.71669775]\n",
      " [0.66424195 0.33575805]\n",
      " [0.25718476 0.74281524]\n",
      " [0.69530132 0.30469868]\n",
      " [0.76920566 0.23079434]\n",
      " [0.85408176 0.14591824]\n",
      " [0.28881264 0.71118736]\n",
      " [0.88216999 0.11783001]\n",
      " [0.09299078 0.90700922]\n",
      " [0.59538869 0.40461131]\n",
      " [0.84475099 0.15524901]\n",
      " [0.70335421 0.29664579]\n",
      " [0.36624454 0.63375546]\n",
      " [0.74023654 0.25976346]\n",
      " [0.90420959 0.09579041]\n",
      " [0.84179218 0.15820782]\n",
      " [0.95118251 0.04881749]\n",
      " [0.96835134 0.03164866]\n",
      " [0.45727108 0.54272892]\n",
      " [0.96460427 0.03539573]\n",
      " [0.89463421 0.10536579]\n",
      " [0.89384107 0.10615893]\n",
      " [0.76051288 0.23948712]\n",
      " [0.7012765  0.2987235 ]\n",
      " [0.86260395 0.13739605]\n",
      " [0.33012778 0.66987222]\n",
      " [0.78392132 0.21607868]\n",
      " [0.06861955 0.93138045]\n",
      " [0.70279233 0.29720767]\n",
      " [0.62279501 0.37720499]\n",
      " [0.91206285 0.08793715]\n",
      " [0.86213143 0.13786857]\n",
      " [0.64508985 0.35491015]\n",
      " [0.4509648  0.5490352 ]\n",
      " [0.94575078 0.05424922]\n",
      " [0.78854854 0.21145146]\n",
      " [0.47762756 0.52237244]\n",
      " [0.73030955 0.26969045]\n",
      " [0.62259078 0.37740922]\n",
      " [0.26172698 0.73827302]\n",
      " [0.86030571 0.13969429]\n",
      " [0.64405415 0.35594585]\n",
      " [0.62506728 0.37493272]\n",
      " [0.95049352 0.04950648]\n",
      " [0.7909666  0.2090334 ]\n",
      " [0.92310366 0.07689634]\n",
      " [0.52544808 0.47455192]\n",
      " [0.89564387 0.10435613]\n",
      " [0.5        0.5       ]\n",
      " [0.90368808 0.09631192]\n",
      " [0.70086786 0.29913214]\n",
      " [0.86784182 0.13215818]\n",
      " [0.85279381 0.14720619]\n",
      " [0.9486017  0.0513983 ]\n",
      " [0.8433718  0.1566282 ]\n",
      " [0.33736446 0.66263554]\n",
      " [0.43550703 0.56449297]\n",
      " [0.93639928 0.06360072]\n",
      " [0.77259594 0.22740406]\n",
      " [0.05988709 0.94011291]\n",
      " [0.35619784 0.64380216]\n",
      " [0.56972539 0.43027461]\n",
      " [0.80655711 0.19344289]\n",
      " [0.16962889 0.83037111]\n",
      " [0.774362   0.225638  ]\n",
      " [0.98114976 0.01885024]\n",
      " [0.92066381 0.07933619]\n",
      " [0.95489769 0.04510231]\n",
      " [0.69276572 0.30723428]\n",
      " [0.48535979 0.51464021]\n",
      " [0.90379863 0.09620137]\n",
      " [0.95639157 0.04360843]\n",
      " [0.68235591 0.31764409]\n",
      " [0.28670911 0.71329089]\n",
      " [0.04431675 0.95568325]\n",
      " [0.91957196 0.08042804]\n",
      " [0.84672767 0.15327233]\n",
      " [0.76268101 0.23731899]\n",
      " [0.80942659 0.19057341]\n",
      " [0.70481801 0.29518199]\n",
      " [0.91293732 0.08706268]\n",
      " [0.92757931 0.07242069]\n",
      " [0.961817   0.038183  ]\n",
      " [0.83844796 0.16155204]\n",
      " [0.31893693 0.68106307]\n",
      " [0.77186904 0.22813096]\n",
      " [0.94303485 0.05696515]\n",
      " [0.8818652  0.1181348 ]\n",
      " [0.29205733 0.70794267]\n",
      " [0.12520041 0.87479959]\n",
      " [0.28906649 0.71093351]\n",
      " [0.80565501 0.19434499]\n",
      " [0.96074033 0.03925967]\n",
      " [0.88543008 0.11456992]\n",
      " [0.72390252 0.27609748]\n",
      " [0.55966846 0.44033154]\n",
      " [0.60983777 0.39016223]\n",
      " [0.95640315 0.04359685]\n",
      " [0.94879122 0.05120878]\n",
      " [0.93682543 0.06317457]\n",
      " [0.94238212 0.05761788]\n",
      " [0.57507377 0.42492623]\n",
      " [0.1232606  0.8767394 ]\n",
      " [0.54976366 0.45023634]\n",
      " [0.9719347  0.0280653 ]\n",
      " [0.44935521 0.55064479]\n",
      " [0.27623499 0.72376501]\n",
      " [0.93026443 0.06973557]\n",
      " [0.80616528 0.19383472]\n",
      " [0.91880126 0.08119874]\n",
      " [0.82708017 0.17291983]\n",
      " [0.90000284 0.09999716]\n",
      " [0.58001592 0.41998408]\n",
      " [0.73357771 0.26642229]\n",
      " [0.94604109 0.05395891]\n",
      " [0.3608498  0.6391502 ]\n",
      " [0.88897826 0.11102174]\n",
      " [0.39880062 0.60119938]\n",
      " [0.96227915 0.03772085]\n",
      " [0.86581112 0.13418888]\n",
      " [0.95848778 0.04151222]\n",
      " [0.66156631 0.33843369]\n",
      " [0.07706005 0.92293995]\n",
      " [0.92439362 0.07560638]\n",
      " [0.86587671 0.13412329]\n",
      " [0.47902135 0.52097865]\n",
      " [0.07497137 0.92502863]\n",
      " [0.94103864 0.05896136]\n",
      " [0.97100038 0.02899962]\n",
      " [0.7941295  0.2058705 ]\n",
      " [0.29008247 0.70991753]\n",
      " [0.95971688 0.04028312]\n",
      " [0.93327322 0.06672678]\n",
      " [0.93986776 0.06013224]\n",
      " [0.78455893 0.21544107]\n",
      " [0.89109646 0.10890354]\n",
      " [0.45481783 0.54518217]\n",
      " [0.684507   0.315493  ]\n",
      " [0.73569984 0.26430016]\n",
      " [0.89608331 0.10391669]\n",
      " [0.64903851 0.35096149]\n",
      " [0.60305042 0.39694958]\n",
      " [0.72814492 0.27185508]\n",
      " [0.57840998 0.42159002]\n",
      " [0.302547   0.697453  ]\n",
      " [0.91770792 0.08229208]\n",
      " [0.67920195 0.32079805]\n",
      " [0.86605519 0.13394481]\n",
      " [0.95264515 0.04735485]\n",
      " [0.06493765 0.93506235]\n",
      " [0.1865687  0.8134313 ]\n",
      " [0.93862752 0.06137248]\n",
      " [0.71684559 0.28315441]\n",
      " [0.6798944  0.3201056 ]\n",
      " [0.01955957 0.98044043]\n",
      " [0.8553606  0.1446394 ]\n",
      " [0.03402558 0.96597442]\n",
      " [0.4869078  0.5130922 ]\n",
      " [0.92667669 0.07332331]\n",
      " [0.88958958 0.11041042]\n",
      " [0.81721739 0.18278261]\n",
      " [0.6568902  0.3431098 ]\n",
      " [0.6938881  0.3061119 ]\n",
      " [0.58866306 0.41133694]\n",
      " [0.20535922 0.79464078]\n",
      " [0.22214527 0.77785473]\n",
      " [0.51647655 0.48352345]\n",
      " [0.10720178 0.89279822]\n",
      " [0.22267093 0.77732907]\n",
      " [0.48480331 0.51519669]]\n",
      "AUC using predict_proba 0.8127572016460906\n"
     ]
    },
    {
     "name": "stderr",
     "output_type": "stream",
     "text": [
      "/opt/anaconda3/lib/python3.7/site-packages/sklearn/svm/base.py:193: FutureWarning: The default value of gamma will change from 'auto' to 'scale' in version 0.22 to account better for unscaled features. Set gamma explicitly to 'auto' or 'scale' to avoid this warning.\n",
      "  \"avoid this warning.\", FutureWarning)\n"
     ]
    }
   ],
   "source": [
    "# ROC curve\n",
    "probas_ = svc.fit(X_train_minmax, y_train).predict_proba(X_test_minmax)\n",
    "fpr, tpr, thresholds = roc_curve(y_test, probas_[:, 1])\n",
    "roc_auc = auc(fpr, tpr)\n",
    "print (\"thresholds\", thresholds)\n",
    "print (\"probas_\", probas_)\n",
    "print (\"AUC using predict_proba\", roc_auc)"
   ]
  },
  {
   "cell_type": "code",
   "execution_count": 54,
   "metadata": {},
   "outputs": [
    {
     "data": {
      "image/png": "[encoded data removed]",
      "text/plain": [
       "<Figure size 432x288 with 1 Axes>"
      ]
     },
     "metadata": {
      "needs_background": "light"
     },
     "output_type": "display_data"
    }
   ],
   "source": [
    "%matplotlib inline\n",
    "\n",
    "plt.figure()\n",
    "plt.plot(fpr, tpr, label='ROC curve (area = %0.2f)' % roc_auc, lw=3, color =\"#0000ff\", marker='s',markerfacecolor=\"red\", markersize=2) \n",
    "plt.plot([0, 1], [0, 1], 'k--')\n",
    "\n",
    "# Setting x and y ranges, labels, title and legend\n",
    "#x range basically from 0 to 1: start range a bit to left of min x value to see thick line better\n",
    "plt.xlim([-0.005, 1.0])  \n",
    "#0 range basically from 0 to 1: extend range a bit above max y value to see thick line better\n",
    "plt.ylim([0.0, 1.005])   \n",
    "plt.xlabel('False Positive Rate')\n",
    "plt.ylabel('True Positive Rate')\n",
    "plt.title('Receiver operating characteristic example')\n",
    "plt.legend(loc=\"lower right\")\n",
    "plt.show()"
   ]
  },
  {
   "cell_type": "code",
   "execution_count": 55,
   "metadata": {},
   "outputs": [
    {
     "name": "stdout",
     "output_type": "stream",
     "text": [
      "SVC(C=1.0, cache_size=50000, class_weight=None, coef0=0.0,\n",
      "    decision_function_shape='ovr', degree=1, gamma='auto_deprecated',\n",
      "    kernel='poly', max_iter=-1, probability=True, random_state=None,\n",
      "    shrinking=True, tol=0.001, verbose=False)\n"
     ]
    },
    {
     "name": "stderr",
     "output_type": "stream",
     "text": [
      "/opt/anaconda3/lib/python3.7/site-packages/sklearn/svm/base.py:193: FutureWarning: The default value of gamma will change from 'auto' to 'scale' in version 0.22 to account better for unscaled features. Set gamma explicitly to 'auto' or 'scale' to avoid this warning.\n",
      "  \"avoid this warning.\", FutureWarning)\n"
     ]
    },
    {
     "name": "stdout",
     "output_type": "stream",
     "text": [
      "Prediction accuracy:  0.7489177489177489\n"
     ]
    }
   ],
   "source": [
    "# using kernel = poly, using degree=1\n",
    "svc = SVC(kernel='poly', cache_size=50000, degree=1, probability=True) \n",
    "print (svc)\n",
    "clf = svc.fit(X_train,y_train) # trains the classifier on the training set\n",
    "y_pred = svc.predict(X_test) # tests the classifier on the test set\n",
    "pTot = accuracy_score(y_test, y_pred)\n",
    "print (\"Prediction accuracy: \", pTot)"
   ]
  },
  {
   "cell_type": "code",
   "execution_count": 56,
   "metadata": {},
   "outputs": [
    {
     "name": "stdout",
     "output_type": "stream",
     "text": [
      "[[132  18]\n",
      " [ 40  41]]\n",
      "              precision    recall  f1-score   support\n",
      "\n",
      "           0       0.77      0.88      0.82       150\n",
      "           1       0.69      0.51      0.59        81\n",
      "\n",
      "    accuracy                           0.75       231\n",
      "   macro avg       0.73      0.69      0.70       231\n",
      "weighted avg       0.74      0.75      0.74       231\n",
      "\n"
     ]
    }
   ],
   "source": [
    "cm = confusion_matrix(y_test, y_pred)\n",
    "print(cm)\n",
    "report = classification_report(y_test, y_pred)\n",
    "print (report)"
   ]
  },
  {
   "cell_type": "code",
   "execution_count": 57,
   "metadata": {},
   "outputs": [
    {
     "name": "stdout",
     "output_type": "stream",
     "text": [
      "SVC(C=100, cache_size=1000, class_weight=None, coef0=0.0,\n",
      "    decision_function_shape='ovr', degree=1, gamma='auto_deprecated',\n",
      "    kernel='poly', max_iter=-1, probability=True, random_state=None,\n",
      "    shrinking=True, tol=0.001, verbose=False)\n",
      "Prediction accuracy:  0.7619047619047619\n"
     ]
    },
    {
     "name": "stderr",
     "output_type": "stream",
     "text": [
      "/opt/anaconda3/lib/python3.7/site-packages/sklearn/svm/base.py:193: FutureWarning: The default value of gamma will change from 'auto' to 'scale' in version 0.22 to account better for unscaled features. Set gamma explicitly to 'auto' or 'scale' to avoid this warning.\n",
      "  \"avoid this warning.\", FutureWarning)\n"
     ]
    }
   ],
   "source": [
    "# svc using minmax scaled X_train\n",
    "svc = SVC(C=100, kernel='poly', cache_size=1000, degree=1, probability=True) \n",
    "print (svc)\n",
    "clf = svc.fit(X_train_minmax, y_train)\n",
    "y_pred_minmax = svc.predict(X_test_minmax)\n",
    "pTot = accuracy_score(y_test, y_pred_minmax)\n",
    "print (\"Prediction accuracy: \",pTot)"
   ]
  },
  {
   "cell_type": "code",
   "execution_count": 58,
   "metadata": {},
   "outputs": [
    {
     "name": "stdout",
     "output_type": "stream",
     "text": [
      "[[135  15]\n",
      " [ 40  41]]\n",
      "              precision    recall  f1-score   support\n",
      "\n",
      "           0       0.77      0.90      0.83       150\n",
      "           1       0.73      0.51      0.60        81\n",
      "\n",
      "    accuracy                           0.76       231\n",
      "   macro avg       0.75      0.70      0.71       231\n",
      "weighted avg       0.76      0.76      0.75       231\n",
      "\n"
     ]
    }
   ],
   "source": [
    "cm = confusion_matrix(y_test, y_pred_minmax)\n",
    "print (cm)\n",
    "report = classification_report(y_test, y_pred_minmax)\n",
    "print (report)"
   ]
  },
  {
   "cell_type": "code",
   "execution_count": 59,
   "metadata": {},
   "outputs": [
    {
     "name": "stdout",
     "output_type": "stream",
     "text": [
      "[0.01, 0.1, 1, 'auto', 'scale', 10]\n"
     ]
    },
    {
     "data": {
      "text/plain": [
       "{'gamma': [0.01, 0.1, 1, 'auto', 'scale', 10],\n",
       " 'C': array([1.e-02, 1.e-01, 1.e+00, 1.e+01, 1.e+02, 1.e+03]),\n",
       " 'degree': [1, 2, 3]}"
      ]
     },
     "execution_count": 59,
     "metadata": {},
     "output_type": "execute_result"
    }
   ],
   "source": [
    "# parameter tuning: C, gamma\n",
    "C_range = 10.0 ** np.arange(-2, 4)\n",
    "gamma_range = [.01, .1, 1, 'auto','scale', 10]\n",
    "# removed gamma=100 because high values of gamma cause svc fit to run endlessly\n",
    "# source : https://github.com/scikit-learn/scikit-learn/issues/13557\n",
    "print (gamma_range)\n",
    "degree_range = [1,2,3]\n",
    "param_grid = dict(gamma=gamma_range, C=C_range, degree=degree_range)\n",
    "param_grid"
   ]
  },
  {
   "cell_type": "code",
   "execution_count": 60,
   "metadata": {},
   "outputs": [
    {
     "name": "stdout",
     "output_type": "stream",
     "text": [
      "Fitting 3 folds for each of 108 candidates, totalling 324 fits\n"
     ]
    },
    {
     "name": "stderr",
     "output_type": "stream",
     "text": [
      "/opt/anaconda3/lib/python3.7/site-packages/sklearn/model_selection/_split.py:1978: FutureWarning: The default value of cv will change from 3 to 5 in version 0.22. Specify it explicitly to silence this warning.\n",
      "  warnings.warn(CV_WARNING, FutureWarning)\n",
      "[Parallel(n_jobs=-1)]: Using backend LokyBackend with 16 concurrent workers.\n",
      "[Parallel(n_jobs=-1)]: Done   9 tasks      | elapsed:    1.9s\n",
      "[Parallel(n_jobs=-1)]: Done 324 out of 324 | elapsed:  6.5min finished\n"
     ]
    }
   ],
   "source": [
    "# Default is 3-fold cross validation, degree = 1,2,3\n",
    "grid = GridSearchCV(SVC(kernel='poly',cache_size=5000, probability=False), verbose=2, param_grid=param_grid, n_jobs=-1) \n",
    "grid.fit(X_train_minmax, y_train)\n",
    "best_C = grid.best_estimator_.C\n",
    "best_gamma = grid.best_estimator_.gamma\n",
    "best_degree = grid.best_estimator_.degree"
   ]
  },
  {
   "cell_type": "code",
   "execution_count": 61,
   "metadata": {},
   "outputs": [
    {
     "name": "stdout",
     "output_type": "stream",
     "text": [
      "The best C , gamma and degree for poly is:  (1000.0, 'auto', 2)\n"
     ]
    },
    {
     "data": {
      "text/plain": [
       "SVC(C=1000.0, cache_size=5000, class_weight=None, coef0=0.0,\n",
       "    decision_function_shape='ovr', degree=2, gamma='auto', kernel='poly',\n",
       "    max_iter=-1, probability=False, random_state=None, shrinking=True,\n",
       "    tol=0.001, verbose=False)"
      ]
     },
     "execution_count": 61,
     "metadata": {},
     "output_type": "execute_result"
    }
   ],
   "source": [
    "print (\"The best C , gamma and degree for poly is: \", (best_C, best_gamma, best_degree))\n",
    "grid.best_estimator_"
   ]
  },
  {
   "cell_type": "code",
   "execution_count": 62,
   "metadata": {},
   "outputs": [
    {
     "name": "stdout",
     "output_type": "stream",
     "text": [
      "Prediction accuracy:  0.7575757575757576\n",
      "[[136  14]\n",
      " [ 42  39]]\n",
      "              precision    recall  f1-score   support\n",
      "\n",
      "           0       0.76      0.91      0.83       150\n",
      "           1       0.74      0.48      0.58        81\n",
      "\n",
      "    accuracy                           0.76       231\n",
      "   macro avg       0.75      0.69      0.71       231\n",
      "weighted avg       0.75      0.76      0.74       231\n",
      "\n"
     ]
    }
   ],
   "source": [
    "best_predict_minmax = grid.best_estimator_.predict(X_test_minmax)\n",
    "pTot = accuracy_score(y_test, best_predict_minmax)\n",
    "print(\"Prediction accuracy: \",pTot)\n",
    "cm = confusion_matrix(y_test, best_predict_minmax)\n",
    "print(cm)\n",
    "report = classification_report(y_test, best_predict_minmax)\n",
    "print(report)"
   ]
  },
  {
   "cell_type": "code",
   "execution_count": 63,
   "metadata": {},
   "outputs": [],
   "source": [
    "# this is the best fit model for kernel = poly using minmax scaled data\n",
    "# using best value for parameters C = 1000.0, gamma = 'auto' and degree=2 using the GridSearchCV\n",
    "# this model has precision accuracy = 0.757575 (75.75%)\n",
    "# it's confusion matrix [[136  14] [ 42  39]]. (TP = 136, TN = 39, FP=42 and FN=14)\n",
    "# the ROC curve is displayed below with its ROC area=0.82\n",
    "# although with C=100 and degree=1, the weighted average was 0.76, \n",
    "# we choose the model with parameters from the best estimate of gridsearchCV \n",
    "# because the macro average is identical(75.75%) and f1-score and support are the same"
   ]
  },
  {
   "cell_type": "code",
   "execution_count": 64,
   "metadata": {},
   "outputs": [
    {
     "name": "stdout",
     "output_type": "stream",
     "text": [
      "thresholds [1.98091326 0.98091326 0.94094408 0.92951606 0.88329525 0.86044938\n",
      " 0.77979595 0.76971051 0.7650366  0.75608795 0.73844518 0.72716528\n",
      " 0.70307843 0.6926183  0.68540652 0.68425701 0.65159146 0.64542953\n",
      " 0.58500557 0.55851631 0.53511039 0.53206267 0.52223574 0.5\n",
      " 0.49285115 0.4840168  0.47337291 0.44762235 0.43151051 0.42092839\n",
      " 0.41221205 0.41057103 0.40176478 0.39876576 0.39780232 0.39059461\n",
      " 0.37299563 0.36763416 0.36377117 0.33881105 0.32007046 0.3164742\n",
      " 0.30733342 0.30697614 0.28077951 0.27772164 0.27313468 0.26555862\n",
      " 0.26421675 0.26076793 0.25607095 0.25466491 0.21490853 0.21327839\n",
      " 0.20639859 0.20486996 0.20336273 0.20247379 0.1978274  0.19284683\n",
      " 0.18989741 0.18383782 0.18373856 0.17600938 0.15756832 0.15657824\n",
      " 0.12239897 0.11977845 0.11291594 0.10949374 0.06109921 0.05938606\n",
      " 0.01810712]\n",
      "probas_ [[0.78672161 0.21327839]\n",
      " [0.13955062 0.86044938]\n",
      " [0.73573019 0.26426981]\n",
      " [0.94690407 0.05309593]\n",
      " [0.79360141 0.20639859]\n",
      " [0.79681327 0.20318673]\n",
      " [0.07048394 0.92951606]\n",
      " [0.5946249  0.4053751 ]\n",
      " [0.60394056 0.39605944]\n",
      " [0.87490775 0.12509225]\n",
      " [0.79513004 0.20486996]\n",
      " [0.31930673 0.68069327]\n",
      " [0.92912699 0.07087301]\n",
      " [0.41499443 0.58500557]\n",
      " [0.96398868 0.03601132]\n",
      " [0.91466155 0.08533845]\n",
      " [0.8493523  0.1506477 ]\n",
      " [0.81010259 0.18989741]\n",
      " [0.57651379 0.42348621]\n",
      " [0.92017624 0.07982376]\n",
      " [0.57907161 0.42092839]\n",
      " [0.75294337 0.24705663]\n",
      " [0.69302386 0.30697614]\n",
      " [0.15329976 0.84670024]\n",
      " [0.22020405 0.77979595]\n",
      " [0.26155482 0.73844518]\n",
      " [0.64639597 0.35360403]\n",
      " [0.73578325 0.26421675]\n",
      " [0.38697398 0.61302602]\n",
      " [0.62700437 0.37299563]\n",
      " [0.5        0.5       ]\n",
      " [0.51894216 0.48105784]\n",
      " [0.4039974  0.5960026 ]\n",
      " [0.89084697 0.10915303]\n",
      " [0.92542832 0.07457168]\n",
      " [0.96631545 0.03368455]\n",
      " [0.34624505 0.65375495]\n",
      " [0.94822351 0.05177649]\n",
      " [0.71922049 0.28077951]\n",
      " [0.71537384 0.28462616]\n",
      " [0.88708406 0.11291594]\n",
      " [0.86999941 0.13000059]\n",
      " [0.60940539 0.39059461]\n",
      " [0.31574299 0.68425701]\n",
      " [0.85669474 0.14330526]\n",
      " [0.8021726  0.1978274 ]\n",
      " [0.2349634  0.7650366 ]\n",
      " [0.47776426 0.52223574]\n",
      " [0.23028949 0.76971051]\n",
      " [0.63236584 0.36763416]\n",
      " [0.11357909 0.88642091]\n",
      " [0.78723859 0.21276141]\n",
      " [0.40055479 0.59944521]\n",
      " [0.77348166 0.22651834]\n",
      " [0.86270883 0.13729117]\n",
      " [0.24754614 0.75245386]\n",
      " [0.84342176 0.15657824]\n",
      " [0.90929109 0.09070891]\n",
      " [0.78509147 0.21490853]\n",
      " [0.75328154 0.24671846]\n",
      " [0.19890761 0.80109239]\n",
      " [0.33503052 0.66496948]\n",
      " [0.66118895 0.33881105]\n",
      " [0.32674159 0.67325841]\n",
      " [0.66966755 0.33033245]\n",
      " [0.74658851 0.25341149]\n",
      " [0.84243168 0.15756832]\n",
      " [0.35457047 0.64542953]\n",
      " [0.88024405 0.11975595]\n",
      " [0.16029302 0.83970698]\n",
      " [0.58354459 0.41645541]\n",
      " [0.82999282 0.17000718]\n",
      " [0.71021494 0.28978506]\n",
      " [0.46793733 0.53206267]\n",
      " [0.75650067 0.24349933]\n",
      " [0.88022155 0.11977845]\n",
      " [0.79663727 0.20336273]\n",
      " [0.94377151 0.05622849]\n",
      " [0.9622421  0.0377579 ]\n",
      " [0.50714885 0.49285115]\n",
      " [0.95707307 0.04292693]\n",
      " [0.87760103 0.12239897]\n",
      " [0.88556308 0.11443692]\n",
      " [0.75403067 0.24596933]\n",
      " [0.6721922  0.3278078 ]\n",
      " [0.84158602 0.15841398]\n",
      " [0.3073817  0.6926183 ]\n",
      " [0.80762016 0.19237984]\n",
      " [0.08520049 0.91479951]\n",
      " [0.74392905 0.25607095]\n",
      " [0.60123424 0.39876576]\n",
      " [0.92000406 0.07999594]\n",
      " [0.84343369 0.15656631]\n",
      " [0.64895956 0.35104044]\n",
      " [0.5        0.5       ]\n",
      " [0.93483038 0.06516962]\n",
      " [0.75792305 0.24207695]\n",
      " [0.55292068 0.44707932]\n",
      " [0.72575144 0.27424856]\n",
      " [0.69266658 0.30733342]\n",
      " [0.31459348 0.68540652]\n",
      " [0.79950148 0.20049852]\n",
      " [0.67992954 0.32007046]\n",
      " [0.70721857 0.29278143]\n",
      " [0.93890079 0.06109921]\n",
      " [0.82399062 0.17600938]\n",
      " [0.90339907 0.09660093]\n",
      " [0.58942897 0.41057103]\n",
      " [0.91898557 0.08101443]\n",
      " [0.56848949 0.43151051]\n",
      " [0.88310228 0.11689772]\n",
      " [0.72686532 0.27313468]\n",
      " [0.86402914 0.13597086]\n",
      " [0.86542262 0.13457738]\n",
      " [0.92194504 0.07805496]\n",
      " [0.81413091 0.18586909]\n",
      " [0.46160647 0.53839353]\n",
      " [0.44148369 0.55851631]\n",
      " [0.92922456 0.07077544]\n",
      " [0.79350235 0.20649765]\n",
      " [0.05905592 0.94094408]\n",
      " [0.38042599 0.61957401]\n",
      " [0.7058751  0.2941249 ]\n",
      " [0.79752621 0.20247379]\n",
      " [0.17943746 0.82056254]\n",
      " [0.7591643  0.2408357 ]\n",
      " [0.97901658 0.02098342]\n",
      " [0.89305236 0.10694764]\n",
      " [0.95442353 0.04557647]\n",
      " [0.69460922 0.30539078]\n",
      " [0.5159832  0.4840168 ]\n",
      " [0.89063816 0.10936184]\n",
      " [0.94061394 0.05938606]\n",
      " [0.66077033 0.33922967]\n",
      " [0.34840854 0.65159146]\n",
      " [0.05479458 0.94520542]\n",
      " [0.91837872 0.08162128]\n",
      " [0.8097193  0.1902807 ]\n",
      " [0.80733387 0.19266613]\n",
      " [0.81475408 0.18524592]\n",
      " [0.72227836 0.27772164]\n",
      " [0.88171641 0.11828359]\n",
      " [0.92918301 0.07081699]\n",
      " [0.9498432  0.0501568 ]\n",
      " [0.8358757  0.1641243 ]\n",
      " [0.28681327 0.71318673]\n",
      " [0.80322172 0.19677828]\n",
      " [0.93025895 0.06974105]\n",
      " [0.86950958 0.13049042]\n",
      " [0.3964028  0.6035972 ]\n",
      " [0.24391205 0.75608795]\n",
      " [0.30155331 0.69844669]\n",
      " [0.81616218 0.18383782]\n",
      " [0.95241497 0.04758503]\n",
      " [0.83924518 0.16075482]\n",
      " [0.73923207 0.26076793]\n",
      " [0.5        0.5       ]\n",
      " [0.6829668  0.3170332 ]\n",
      " [0.94519523 0.05480477]\n",
      " [0.92259203 0.07740797]\n",
      " [0.90990656 0.09009344]\n",
      " [0.92302272 0.07697728]\n",
      " [0.63814248 0.36185752]\n",
      " [0.16556984 0.83443016]\n",
      " [0.57704576 0.42295424]\n",
      " [0.96566387 0.03433613]\n",
      " [0.55237765 0.44762235]\n",
      " [0.34321284 0.65678716]\n",
      " [0.92074795 0.07925205]\n",
      " [0.7895585  0.2104415 ]\n",
      " [0.91519115 0.08480885]\n",
      " [0.85118424 0.14881576]\n",
      " [0.89308024 0.10691976]\n",
      " [0.57461417 0.42538583]\n",
      " [0.73444138 0.26555862]\n",
      " [0.93791635 0.06208365]\n",
      " [0.44113742 0.55886258]\n",
      " [0.84799353 0.15200647]\n",
      " [0.46488961 0.53511039]\n",
      " [0.94860919 0.05139081]\n",
      " [0.85375565 0.14624435]\n",
      " [0.93827818 0.06172182]\n",
      " [0.63622883 0.36377117]\n",
      " [0.11670475 0.88329525]\n",
      " [0.89575921 0.10424079]\n",
      " [0.84122322 0.15877678]\n",
      " [0.55771004 0.44228996]\n",
      " [0.09749242 0.90250758]\n",
      " [0.91505824 0.08494176]\n",
      " [0.98189288 0.01810712]\n",
      " [0.81626144 0.18373856]\n",
      " [0.33061835 0.66938165]\n",
      " [0.94962938 0.05037062]\n",
      " [0.91106753 0.08893247]\n",
      " [0.91099012 0.08900988]\n",
      " [0.81950493 0.18049507]\n",
      " [0.88493421 0.11506579]\n",
      " [0.52662709 0.47337291]\n",
      " [0.66410956 0.33589044]\n",
      " [0.78413829 0.21586171]\n",
      " [0.89336319 0.10663681]\n",
      " [0.70513563 0.29486437]\n",
      " [0.58778795 0.41221205]\n",
      " [0.74533509 0.25466491]\n",
      " [0.59464422 0.40535578]\n",
      " [0.30881781 0.69118219]\n",
      " [0.90516053 0.09483947]\n",
      " [0.68314946 0.31685054]\n",
      " [0.89050626 0.10949374]\n",
      " [0.94553103 0.05446897]\n",
      " [0.07873122 0.92126878]\n",
      " [0.29544041 0.70455959]\n",
      " [0.92313055 0.07686945]\n",
      " [0.74793945 0.25206055]\n",
      " [0.6835258  0.3164742 ]\n",
      " [0.01908674 0.98091326]\n",
      " [0.80715317 0.19284683]\n",
      " [0.0589864  0.9410136 ]\n",
      " [0.60219768 0.39780232]\n",
      " [0.90005355 0.09994645]\n",
      " [0.83388269 0.16611731]\n",
      " [0.77355538 0.22644462]\n",
      " [0.71536223 0.28463777]\n",
      " [0.65762885 0.34237115]\n",
      " [0.66751027 0.33248973]\n",
      " [0.29692157 0.70307843]\n",
      " [0.27283472 0.72716528]\n",
      " [0.59823522 0.40176478]\n",
      " [0.17626897 0.82373103]\n",
      " [0.29600688 0.70399312]\n",
      " [0.59780211 0.40219789]]\n",
      "AUC using predict_proba 0.8202469135802469\n"
     ]
    },
    {
     "name": "stderr",
     "output_type": "stream",
     "text": [
      "/opt/anaconda3/lib/python3.7/site-packages/sklearn/svm/base.py:193: FutureWarning: The default value of gamma will change from 'auto' to 'scale' in version 0.22 to account better for unscaled features. Set gamma explicitly to 'auto' or 'scale' to avoid this warning.\n",
      "  \"avoid this warning.\", FutureWarning)\n"
     ]
    }
   ],
   "source": [
    "probas_ = svc.fit(X_train_minmax, y_train).predict_proba(X_test_minmax)\n",
    "fpr, tpr, thresholds = roc_curve(y_test, probas_[:, 1])  # use the probs of (smoke), not of nonsmoking\n",
    "roc_auc = auc(fpr, tpr)\n",
    "print (\"thresholds\", thresholds)\n",
    "print (\"probas_\", probas_)\n",
    "print (\"AUC using predict_proba\", roc_auc)"
   ]
  },
  {
   "cell_type": "code",
   "execution_count": 65,
   "metadata": {},
   "outputs": [
    {
     "data": {
      "image/png": "[encoded data removed]",
      "text/plain": [
       "<Figure size 432x288 with 1 Axes>"
      ]
     },
     "metadata": {
      "needs_background": "light"
     },
     "output_type": "display_data"
    }
   ],
   "source": [
    "%matplotlib inline\n",
    "\n",
    "plt.figure()\n",
    "#plt.plot(fpr, tpr, label='ROC curve (area = %0.2f)' % roc_auc, lw=4 ) # plot ROC curve, no marker\n",
    "plt.plot(fpr, tpr, label='ROC curve (area = %0.2f)' % roc_auc, lw=3, color =\"#0000ff\", marker='s',markerfacecolor=\"red\", markersize=2) \n",
    "plt.plot([0, 1], [0, 1], 'k--') # also plot black dashed line (k=black) from (0,0) to (1,1)\n",
    "\n",
    "# Set x and y ranges, labels, title and legend\n",
    "plt.xlim([-0.005, 1.0])  #x range basically from 0 to 1: start range a bit to left of min x value to see thick line better\n",
    "plt.ylim([0.0, 1.005])   #0 range basically from 0 to 1: extend range a bit above max y value to see thick line better\n",
    "plt.xlabel('False Positive Rate')\n",
    "plt.ylabel('True Positive Rate')\n",
    "plt.title('Receiver operating characteristic example')\n",
    "plt.legend(loc=\"lower right\")\n",
    "plt.show()"
   ]
  }
 ],
 "metadata": {
  "kernelspec": {
   "display_name": "Python 3",
   "language": "python",
   "name": "python3"
  },
  "language_info": {
   "codemirror_mode": {
    "name": "ipython",
    "version": 3
   },
   "file_extension": ".py",
   "mimetype": "text/x-python",
   "name": "python",
   "nbconvert_exporter": "python",
   "pygments_lexer": "ipython3",
   "version": "3.7.4"
  }
 },
 "nbformat": 4,
 "nbformat_minor": 2
}
